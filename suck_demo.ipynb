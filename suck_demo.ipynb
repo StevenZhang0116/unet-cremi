{
 "cells": [
  {
   "cell_type": "code",
   "execution_count": null,
   "metadata": {},
   "outputs": [],
   "source": [
    "import h5py\n",
    "import numpy as np\n",
    "from keras.models import Sequential\n",
    "from keras.layers import Dense, Conv2D, Flatten, GlobalAveragePooling2D, Dropout, MaxPooling2D"
   ]
  },
  {
   "cell_type": "code",
   "execution_count": null,
   "metadata": {},
   "outputs": [],
   "source": [
    "f_train = h5py.File(\"sample_A_20160501.hdf\")\n",
    "pixels = f_train['volumes']['raw']\n",
    "labels = f_train['volumes']['labels']['neuron_ids']\n",
    "\n",
    "# convert training data\n",
    "train_data = np.array(pixels[::].tolist())\n",
    "train_labels = np.array(labels[::].tolist())"
   ]
  },
  {
   "cell_type": "code",
   "execution_count": null,
   "metadata": {},
   "outputs": [],
   "source": [
    "import tensorflow as tf\n",
    "\n",
    "train_set, val_set = tf.keras.utils.split_dataset(train_data, left_size=0.8)\n",
    "train_label, val_label = tf.keras.utils.split_dataset(train_labels, left_size=0.8)"
   ]
  },
  {
   "cell_type": "code",
   "execution_count": null,
   "metadata": {},
   "outputs": [],
   "source": [
    "model = Sequential()\n",
    "\n",
    "model.add(Dense(250, activation='softmax',\n",
    "                input_shape=(1250, 1250)))\n",
    "model.add(Dropout(0.5))\n",
    "model.add(Dense(1250, activation='softmax'))\n",
    "\n",
    "model.compile(optimizer='adam',\n",
    "              loss='categorical_crossentropy',\n",
    "              metrics=['accuracy'])"
   ]
  },
  {
   "cell_type": "code",
   "execution_count": null,
   "metadata": {},
   "outputs": [],
   "source": [
    "model.fit(train_data,\n",
    "          train_labels,\n",
    "          batch_size=10,\n",
    "          shuffle=True,\n",
    "          epochs=3)"
   ]
  }
 ],
 "metadata": {
  "kernelspec": {
   "display_name": "uwzihan",
   "language": "python",
   "name": "python3"
  },
  "language_info": {
   "codemirror_mode": {
    "name": "ipython",
    "version": 3
   },
   "file_extension": ".py",
   "mimetype": "text/x-python",
   "name": "python",
   "nbconvert_exporter": "python",
   "pygments_lexer": "ipython3",
   "version": "3.9.0"
  },
  "orig_nbformat": 4
 },
 "nbformat": 4,
 "nbformat_minor": 2
}
